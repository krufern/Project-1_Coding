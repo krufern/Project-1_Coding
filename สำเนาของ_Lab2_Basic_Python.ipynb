{
  "cells": [
    {
      "cell_type": "markdown",
      "metadata": {
        "id": "view-in-github",
        "colab_type": "text"
      },
      "source": [
        "<a href=\"https://colab.research.google.com/github/krufern/Project-1_Coding/blob/main/%E0%B8%AA%E0%B8%B3%E0%B9%80%E0%B8%99%E0%B8%B2%E0%B8%82%E0%B8%AD%E0%B8%87_Lab2_Basic_Python.ipynb\" target=\"_parent\"><img src=\"https://colab.research.google.com/assets/colab-badge.svg\" alt=\"Open In Colab\"/></a>"
      ]
    },
    {
      "cell_type": "code",
      "source": [
        "#@title ข้อมูลผู้เรียน\n",
        "student_name = 'ศิริชัย นกโต' #@param {type:\"string\"}\n",
        "school_name = 'สตรีสมุทรปราการ' #@param {type:\"string\"}\n",
        "print(\"ชื่อ - นามสกุล:\", student_name)\n",
        "print(\"โรงเรียน:\", school_name)"
      ],
      "metadata": {
        "cellView": "form",
        "id": "vMBGLJW_gxwP",
        "outputId": "a137070b-c156-4d9a-db53-11d2b7ff5e20",
        "colab": {
          "base_uri": "https://localhost:8080/"
        }
      },
      "id": "vMBGLJW_gxwP",
      "execution_count": null,
      "outputs": [
        {
          "output_type": "stream",
          "name": "stdout",
          "text": [
            "ชื่อ - นามสกุล: ศิริชัย นกโต\n",
            "โรงเรียน: สตรีสมุทรปราการ\n"
          ]
        }
      ]
    },
    {
      "cell_type": "markdown",
      "id": "1b92668a",
      "metadata": {
        "id": "1b92668a"
      },
      "source": [
        "# **Basic Python Lab Sheet**\n",
        "\n",
        "## เนื้อหาประกอบด้วย\n",
        "1. Basic Data Types (including Lists)\n",
        "2. Input and Print Functions\n",
        "3. Operators\n",
        "4. Conditional Statements (if)\n",
        "5. Introduction to NumPy\n",
        "\n",
        "### Slide: [basic python](https://docs.google.com/presentation/d/1kExrO1RfE5l7i6q0dRuuFDrkfM4YUSi6NwNUM2rdvBQ/edit?usp=sharing) | [if](https://docs.google.com/presentation/d/1Llm6REgGDI4mvJ4MfgN9c0uU8ZyyxKVY6apNJU2IQ9o/edit?usp=sharing) | [numpy concept](https://docs.google.com/presentation/d/1qoUhQowgwALcIXytycpeasdLNVnAs7NKPav_apoTqQ4/edit?usp=sharing)\n",
        "---\n",
        "\n"
      ]
    },
    {
      "cell_type": "markdown",
      "id": "7ccef4cc",
      "metadata": {
        "id": "7ccef4cc"
      },
      "source": [
        "### **1. Basic Data Types**\n",
        "Explore basic data types like integers, floats, strings, booleans, and lists in Python.\n"
      ]
    },
    {
      "cell_type": "code",
      "execution_count": null,
      "id": "1207e67b",
      "metadata": {
        "id": "1207e67b",
        "outputId": "43efd390-3e18-4f3f-985a-15657869c53d",
        "colab": {
          "base_uri": "https://localhost:8080/"
        }
      },
      "outputs": [
        {
          "output_type": "stream",
          "name": "stdout",
          "text": [
            "Integer: 5\n",
            "Float: 3.14\n",
            "String: Hello, Python!\n",
            "Boolean: True\n",
            "List: [1, 2, 3, 4, 5]\n",
            "จำนวนสมาชิกใน List: 5\n"
          ]
        }
      ],
      "source": [
        "# Examples of Basic Data Types\n",
        "an_integer = 5\n",
        "a_float = 3.14\n",
        "a_string = \"Hello, Python!\"\n",
        "a_boolean = True\n",
        "a_list = [1, 2, 3, 4, 5]\n",
        "\n",
        "print(\"Integer:\", an_integer)\n",
        "print(\"Float:\", a_float)\n",
        "print(\"String:\", a_string)\n",
        "print(\"Boolean:\", a_boolean)\n",
        "print(\"List:\", a_list)\n",
        "print(\"จำนวนสมาชิกใน List:\", len(a_list))\n"
      ]
    },
    {
      "cell_type": "markdown",
      "id": "d0635220",
      "metadata": {
        "id": "d0635220"
      },
      "source": [
        "#### Exercise 1:\n",
        "สร้างลิสต์ที่ประกอบด้วยประเภทข้อมูลที่แตกต่างกัน (จำนวนเต็ม, สตริง, จำนวนจริง(จุดทศนิยม)) แล้วแสดงผลข้อมูลทั้งหมดพร้อมชนิดของข้อมูลนั้น\n"
      ]
    },
    {
      "cell_type": "code",
      "source": [
        "# code here\n",
        "b_list = [1,1.50,\"sirichai\"]\n",
        "print (b_list)\n",
        "print (type(b_list[0]),type(b_list[1]),type(b_list[2]))"
      ],
      "metadata": {
        "id": "iipAfbpFj8wt",
        "colab": {
          "base_uri": "https://localhost:8080/"
        },
        "outputId": "bd9584aa-d1cd-48fc-9b90-7fa73a0b1dab"
      },
      "id": "iipAfbpFj8wt",
      "execution_count": null,
      "outputs": [
        {
          "output_type": "stream",
          "name": "stdout",
          "text": [
            "[1, 1.5, 'sirichai']\n",
            "<class 'int'> <class 'float'> <class 'str'>\n"
          ]
        }
      ]
    },
    {
      "cell_type": "markdown",
      "id": "bb3f4f65",
      "metadata": {
        "id": "bb3f4f65"
      },
      "source": [
        "### **2. Input and Print Functions**\n",
        "Learn to use `input()` for user input and `print()` for output.\n"
      ]
    },
    {
      "cell_type": "code",
      "execution_count": null,
      "id": "6928cf68",
      "metadata": {
        "id": "6928cf68",
        "colab": {
          "base_uri": "https://localhost:8080/"
        },
        "outputId": "66a33073-114c-4776-ba50-1c902efe0968"
      },
      "outputs": [
        {
          "output_type": "stream",
          "name": "stdout",
          "text": [
            "Enter your name: ศิริชัย นกโต\n",
            "Hello, ศิริชัย นกโต!\n"
          ]
        }
      ],
      "source": [
        "# Input and Print example\n",
        "user_name = input(\"Enter your name: \")\n",
        "print(\"Hello, \" + user_name + \"!\")\n"
      ]
    },
    {
      "cell_type": "markdown",
      "id": "f575d581",
      "metadata": {
        "id": "f575d581"
      },
      "source": [
        "#### Exercise 2:\n",
        "รับข้อมูลเข้าเป็นเลขจำนวนเต็ม 2 ตัว แล้วแสดงเลขจำนวนเต็มทั้งหมด\n"
      ]
    },
    {
      "cell_type": "code",
      "source": [
        "# code here\n",
        "number1 = int(input(\"กรุณาใส่ตัวเลขตัวที่ 1 :\"))\n",
        "number2 = int(input(\"กรุณาใส่ตัวเลขตัวที่ 2 :\"))\n",
        "print (number1 +number2)"
      ],
      "metadata": {
        "id": "KDK8bg7TkCOa",
        "colab": {
          "base_uri": "https://localhost:8080/"
        },
        "outputId": "629bd592-0d70-445d-a95e-b7295eb5e380"
      },
      "id": "KDK8bg7TkCOa",
      "execution_count": null,
      "outputs": [
        {
          "output_type": "stream",
          "name": "stdout",
          "text": [
            "กรุณาใส่ตัวเลขตัวที่ 1 :2\n",
            "กรุณาใส่ตัวเลขตัวที่ 2 :3\n",
            "5\n"
          ]
        }
      ]
    },
    {
      "cell_type": "markdown",
      "id": "4545d3f9",
      "metadata": {
        "id": "4545d3f9"
      },
      "source": [
        "### **3. Operators**\n",
        "Explore different types of operators in Python.\n"
      ]
    },
    {
      "cell_type": "code",
      "execution_count": null,
      "id": "143211c6",
      "metadata": {
        "id": "143211c6",
        "colab": {
          "base_uri": "https://localhost:8080/"
        },
        "outputId": "25f75529-182c-434d-b0ff-f28584a57824"
      },
      "outputs": [
        {
          "output_type": "stream",
          "name": "stdout",
          "text": [
            "a + b = 13\n",
            "a - b = 7\n",
            "a * b = 30\n",
            "a / b = 3.3333333333333335\n",
            "a // b = 3\n",
            "a % b = 1\n"
          ]
        }
      ],
      "source": [
        "# Arithmetic Operators example\n",
        "a = 10\n",
        "b = 3\n",
        "\n",
        "print(\"a + b =\", a + b)\n",
        "print(\"a - b =\", a - b)\n",
        "print(\"a * b =\", a * b)\n",
        "print(\"a / b =\", a / b)\n",
        "print(\"a // b =\", a // b)\n",
        "print(\"a % b =\", a % b)"
      ]
    },
    {
      "cell_type": "markdown",
      "id": "284aa0fb",
      "metadata": {
        "id": "284aa0fb"
      },
      "source": [
        "#### Exercise 3:\n",
        "เขียนโปรแกรมคำนวณหา BMI\n",
        "\n"
      ]
    },
    {
      "cell_type": "code",
      "source": [
        "# code here\n"
      ],
      "metadata": {
        "id": "1dh8wPhBkEgL"
      },
      "id": "1dh8wPhBkEgL",
      "execution_count": null,
      "outputs": []
    },
    {
      "cell_type": "markdown",
      "id": "4c762215",
      "metadata": {
        "id": "4c762215"
      },
      "source": [
        "### **4. Conditional Statements (if)**\n",
        "Learn how to use `if` statements for decision-making.\n"
      ]
    },
    {
      "cell_type": "code",
      "execution_count": null,
      "id": "1a88288f",
      "metadata": {
        "id": "1a88288f"
      },
      "outputs": [],
      "source": [
        "# If statement example\n",
        "number = int(input(\"Enter a number: \"))\n",
        "if number > 0:\n",
        "    print(\"The number is positive.\")\n",
        "elif number == 0:\n",
        "    print(\"The number is zero.\")\n",
        "else:\n",
        "    print(\"The number is negative.\")\n"
      ]
    },
    {
      "cell_type": "markdown",
      "source": [
        "#### Exercise 4:\n",
        "เขียนโปรแกรมแปลผล BMI\n",
        "\n",
        "<img src=\"https://chulalongkornhospital.go.th/kcmh/wp-content/uploads/2022/04/03-14-22-3.jpg\" width=\"400\" >"
      ],
      "metadata": {
        "id": "OBnydT2OjIR9"
      },
      "id": "OBnydT2OjIR9"
    },
    {
      "cell_type": "code",
      "source": [
        "# code here\n"
      ],
      "metadata": {
        "id": "5L39_nUDjPQt"
      },
      "id": "5L39_nUDjPQt",
      "execution_count": null,
      "outputs": []
    },
    {
      "cell_type": "markdown",
      "source": [
        "#### Exercise 5:\n",
        "เขียนโปรแกรมรับจำนวนเต็มบวก 3 จำนวน แล้วตรวจสอบว่าสามารถนำไปสร้างเป็นด้านของสามเหลี่ยมได้หรือไม่\n"
      ],
      "metadata": {
        "id": "-0k4PIwuZMuB"
      },
      "id": "-0k4PIwuZMuB"
    },
    {
      "cell_type": "code",
      "source": [
        "# code here\n"
      ],
      "metadata": {
        "id": "cIiY8ppnaSo2"
      },
      "id": "cIiY8ppnaSo2",
      "execution_count": null,
      "outputs": []
    },
    {
      "cell_type": "markdown",
      "id": "eef5befe",
      "metadata": {
        "id": "eef5befe"
      },
      "source": [
        "### **5. Introduction to NumPy**\n",
        " NumPy เป็นไลบรารีที่ในภาษา Python ที่ใช้สำหรับการคำนวณทางคณิตศาสตร์  มีความสามารถในการจัดการกับอาเรย์หลายมิติและข้อมูลแบบเมทริกซ์ ทำให้การคำนวณเร็วขึ้นและกระชับขึ้น.\n",
        "\n",
        "ตัวอย่างข้อดีของการใช้ NumPy:\n",
        "- NumPy มีความเร็วกว่าการจัดเก็บข้อมูลประเภทลิสต์ของ Python อย่างมากสำหรับการดำเนินการทางคณิตศาสตร์\n",
        "- มีฟังก์ชันหลากหลายสำหรับการดำเนินการทางคณิตศาสตร์และสถิติ\n",
        "- จัดการข้อมูลหลายมิติได้อย่างง่ายดาย\n",
        "- ทำให้การคำนวณทางคณิตศาสตร์ที่ซับซ้อนง่ายขึ้น.\n"
      ]
    },
    {
      "cell_type": "code",
      "source": [
        "# Basic Numpy example 1\n",
        "import numpy as np\n",
        "\n",
        "# Creating an array\n",
        "arr = np.array([1, 2, 3, 4, 5])\n",
        "\n",
        "print(\"Array:\", arr)\n",
        "print(\"ตัวอย่างการเรียกดูข้อมูลตำแหน่งต่าง ๆ :\", arr[0], arr[1], arr[-1])\n",
        "for data in arr:\n",
        "  print(data)"
      ],
      "metadata": {
        "id": "tUewckFgbnEk"
      },
      "id": "tUewckFgbnEk",
      "execution_count": null,
      "outputs": []
    },
    {
      "cell_type": "markdown",
      "source": [
        "ตัวอย่างการสร้างและเรียกใช้"
      ],
      "metadata": {
        "id": "lLeObBwIcpu5"
      },
      "id": "lLeObBwIcpu5"
    },
    {
      "cell_type": "markdown",
      "source": [
        "ตัวอย่างการดำเนินการ (operation) ใน numpy"
      ],
      "metadata": {
        "id": "V9XTQ7YFdVTZ"
      },
      "id": "V9XTQ7YFdVTZ"
    },
    {
      "cell_type": "code",
      "source": [
        "# Basic NumPy examples 2\n",
        "import numpy as np\n",
        "\n",
        "# Creating a NumPy array\n",
        "arr = np.array([1, 2, 3, 4, 5])\n",
        "\n",
        "# Basic Operations\n",
        "print(\"Original Array:\", arr)\n",
        "print(\"Array + 2:\", arr + 2)\n",
        "print(\"Array * 2:\", arr * 2)\n",
        "print(\"Mean of Array:\", np.mean(arr))\n",
        "print(\"Max of Array:\", np.max(arr))"
      ],
      "metadata": {
        "id": "EnuKy_g4cfCe",
        "colab": {
          "base_uri": "https://localhost:8080/"
        },
        "outputId": "ee03505a-eb09-4fcb-fa3b-5cb8d256567c"
      },
      "id": "EnuKy_g4cfCe",
      "execution_count": null,
      "outputs": [
        {
          "output_type": "stream",
          "name": "stdout",
          "text": [
            "Original Array: [1 2 3 4 5]\n",
            "Array + 2: [3 4 5 6 7]\n",
            "Array * 2: [ 2  4  6  8 10]\n",
            "Mean of Array: 3.0\n",
            "Max of Array: 5\n"
          ]
        }
      ]
    },
    {
      "cell_type": "code",
      "execution_count": null,
      "id": "87a009bc",
      "metadata": {
        "id": "87a009bc"
      },
      "outputs": [],
      "source": [
        "# Basic NumPy examples 3\n",
        "import numpy as np\n",
        "\n",
        "# การบวกข้อมูลใน array ในตำแหน่งที่ตรงกัน\n",
        "arr_1 = np.array([10, 20, 30, 40, 50])\n",
        "arr_2 = np.array([1, 2, 3, 4, 5])\n",
        "print(\"arr_1 + arr_2:\", arr_1 + arr_2)\n",
        "\n",
        "# Mean and Standard Deviation\n",
        "print(\"Mean of the array:\", np.mean(arr))\n",
        "print(\"Standard deviation of the array:\", np.std(arr))\n"
      ]
    },
    {
      "cell_type": "markdown",
      "source": [
        "ตัวอย่างการสร้าง matrix ด้วย numpy"
      ],
      "metadata": {
        "id": "yglOcJxFdiKJ"
      },
      "id": "yglOcJxFdiKJ"
    },
    {
      "cell_type": "code",
      "source": [
        "# Basic NumPy examples 4\n",
        "import numpy as np\n",
        "\n",
        "# Creating a 3x3 array\n",
        "matrix = np.array([[1, 2, 3], [4, 5, 6], [7, 8, 9]])\n",
        "print(\"\\n3x3 Array:\\n\", matrix)\n",
        "\n",
        "# Print the second row\n",
        "print(\"Second row of the matrix:\", matrix[1])\n",
        "\n",
        "# Sum of all elements\n",
        "print(\"Sum of all elements in the matrix:\", np.sum(matrix))"
      ],
      "metadata": {
        "colab": {
          "base_uri": "https://localhost:8080/"
        },
        "id": "U4zgMpmba4Cz",
        "outputId": "03f91848-ddd8-4f73-e9f0-a33a673d2ece"
      },
      "id": "U4zgMpmba4Cz",
      "execution_count": null,
      "outputs": [
        {
          "output_type": "stream",
          "name": "stdout",
          "text": [
            "\n",
            "3x3 Array:\n",
            " [[1 2 3]\n",
            " [4 5 6]\n",
            " [7 8 9]]\n",
            "Second row of the matrix: [4 5 6]\n",
            "Sum of all elements in the matrix: 45\n"
          ]
        }
      ]
    },
    {
      "cell_type": "markdown",
      "id": "8e861d84",
      "metadata": {
        "id": "8e861d84"
      },
      "source": [
        "#### Exercise 6:\n",
        "มีคะแนนสอบครั้งที่ 1 และครั้งที่ 2 ของนักเรียนจำนวน 12 คน ถูกเก็บไว้ในลิสต์ชื่อ score1 และ score2 ตามลำดับ\n",
        "1. จงแปลงเป็น numpy array ชื่อ arr1 และ arr2\n",
        "2. แสดงผลบวกของคะแนนรวม ซึ่งมาจากคะแนนสอบครั้งที่ 1 รวมกับคะแนนสอบครั้งที่ 2\n",
        "3. แสดงค่าเฉลี่ยของคะแนนสอบแต่ละครั้ง และคะแนนรวม\n",
        "4. แสดงคะแนนของนักเรียนที่มากกว่าค่าเฉลี่ย และนับว่ามีกี่คน\n"
      ]
    },
    {
      "cell_type": "code",
      "source": [
        "# code here\n",
        "score1 = [8, 7.5, 4, 10, 9.5, 9, 7, 8.5, 7, 8, 6.5, 9]\n",
        "score2 = [7, 7, 5.5, 8.5, 9, 9, 6, 6.5, 7, 8, 7.5, 10]\n",
        "\n"
      ],
      "metadata": {
        "id": "dz2_IsgojtLf"
      },
      "id": "dz2_IsgojtLf",
      "execution_count": null,
      "outputs": []
    }
  ],
  "metadata": {
    "colab": {
      "provenance": [],
      "include_colab_link": true
    },
    "language_info": {
      "name": "python"
    },
    "kernelspec": {
      "name": "python3",
      "display_name": "Python 3"
    }
  },
  "nbformat": 4,
  "nbformat_minor": 5
}